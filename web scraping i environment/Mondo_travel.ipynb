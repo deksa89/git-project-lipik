{
 "cells": [
  {
   "cell_type": "code",
   "execution_count": 3,
   "metadata": {},
   "outputs": [],
   "source": [
    "import os\n",
    "import pandas as pd\n",
    "import time\n",
    "from selenium import webdriver\n",
    "from webdriver_manager.chrome import ChromeDriverManager\n",
    "from selenium import webdriver\n",
    "from selenium.webdriver.common.action_chains import ActionChains"
   ]
  },
  {
   "cell_type": "code",
   "execution_count": 4,
   "metadata": {},
   "outputs": [],
   "source": [
    "options = webdriver.ChromeOptions()\n",
    "options.add_argument(\"--incognito\")"
   ]
  },
  {
   "cell_type": "code",
   "execution_count": 5,
   "metadata": {},
   "outputs": [
    {
     "name": "stderr",
     "output_type": "stream",
     "text": [
      "\n",
      "\n",
      "====== WebDriver manager ======\n",
      "Current google-chrome version is 96.0.4664\n",
      "Get LATEST chromedriver version for 96.0.4664 google-chrome\n",
      "Driver [C:\\Users\\User\\.wdm\\drivers\\chromedriver\\win32\\96.0.4664.45\\chromedriver.exe] found in cache\n"
     ]
    }
   ],
   "source": [
    "driver = webdriver.Chrome(ChromeDriverManager().install(), options=options)\n",
    "driver.delete_all_cookies()\n",
    "driver.start_client()\n"
   ]
  },
  {
   "cell_type": "code",
   "execution_count": 6,
   "metadata": {},
   "outputs": [],
   "source": [
    "time.sleep(1)"
   ]
  },
  {
   "cell_type": "code",
   "execution_count": 7,
   "metadata": {},
   "outputs": [],
   "source": [
    "driver.get(\"https://www.mondotravel.hr/europska-putovanja\")"
   ]
  },
  {
   "cell_type": "code",
   "execution_count": 8,
   "metadata": {},
   "outputs": [],
   "source": [
    "time.sleep(2)"
   ]
  },
  {
   "cell_type": "code",
   "execution_count": 9,
   "metadata": {},
   "outputs": [],
   "source": [
    "try:\n",
    "    driver.find_element_by_xpath(\"/html/body/div[2]/div/a[2]\").click()\n",
    "except:\n",
    "    print(\"nisi pogodio\")"
   ]
  },
  {
   "cell_type": "code",
   "execution_count": 10,
   "metadata": {},
   "outputs": [],
   "source": [
    "time.sleep(2)"
   ]
  },
  {
   "cell_type": "code",
   "execution_count": 11,
   "metadata": {},
   "outputs": [],
   "source": [
    "try:\n",
    "    driver.find_element_by_xpath(\"//*[@id=\\\"loadMoreTripsApp\\\"]/div[2]/a/span\").click()\n",
    "except:\n",
    "    print(\"nevalja\")"
   ]
  },
  {
   "cell_type": "code",
   "execution_count": 12,
   "metadata": {},
   "outputs": [
    {
     "name": "stdout",
     "output_type": "stream",
     "text": [
      "91\n"
     ]
    }
   ],
   "source": [
    "journey_title = []\n",
    "gradovi = driver.find_elements_by_class_name(\"title-2.cl-1\")\n",
    "for gr in gradovi:\n",
    "    journey_title.append(gr.text)\n",
    "print(len(journey_title))"
   ]
  },
  {
   "cell_type": "code",
   "execution_count": 13,
   "metadata": {},
   "outputs": [
    {
     "name": "stdout",
     "output_type": "stream",
     "text": [
      "91\n",
      "['1.990 kn', '2.990 kn', '3.490 kn', '2.290 kn', '2.390 kn', '1.990 kn', '4.290 kn', '2.690 kn', '1.790 kn', '2.590 kn', '1.790 kn', '3.290 kn', '2.290 kn', '1.090 kn', '550 kn', '2.990 kn', '3.490 kn', '1.150 kn', '4.590 kn', '2.090 kn', '1.599 kn', '790 kn', '750 kn', '1.890 kn', '2.290 kn', '293 kn', '1.190 kn', '2.990 kn', '3.890 kn', '1.999 kn', '3.590 kn', '1.890 kn', '1.190 kn', '1.090 kn', '1.490 kn', '990 kn', '750 kn', '2.990 kn', '225.33 €', '3.490 kn', '5.990 kn', '7.260 kn', '7.690 kn', '1.990 kn', '1.590 kn', '1.999 kn', '1.490 kn', '2.290 kn', '250 kn', '4.990 kn', '5.880 kn', '5.420 kn', '2.990 kn', '663 kn', '4.200 kn', '4.280 kn', '4.200 kn', '1.890 kn', '1.950 kn', '930 kn', '990 kn', '4.790 kn', '5.490 kn', '890 kn', '1.433 kn', '1.290 kn', '1.464 kn', '2.190 kn', '1.090 kn', '2.390 kn', '2.490 kn', '2.490 kn', '4.490 kn', '1.090 kn', '0 kn', '1.690 kn', '1.890 kn', '4.810 kn', '6.370 kn', '4.940 kn', '790 kn', '5.040 kn', '4.280 kn', '399 kn', '1.099 kn', '4.390 kn', '0 kn', '1.690 kn', '3.290 kn', '550 kn', '4.580 kn']\n"
     ]
    }
   ],
   "source": [
    "price = []\n",
    "cijena = driver.find_elements_by_class_name(\"cl-3\")\n",
    "for c in cijena:\n",
    "    if c != cijena[0] and c != cijena[-1]:\n",
    "        price.append(c.text)\n",
    "print(len(price))\n",
    "print(price)"
   ]
  },
  {
   "cell_type": "code",
   "execution_count": 14,
   "metadata": {},
   "outputs": [
    {
     "name": "stdout",
     "output_type": "stream",
     "text": [
      "91\n"
     ]
    }
   ],
   "source": [
    "duration_days = []\n",
    "trajanje = driver.find_elements_by_class_name(\"tag.has-icon.cl-4.inner-margin-0\")\n",
    "for tr in trajanje:\n",
    "    duration_days.append(tr.text)\n",
    "print(len(duration_days))"
   ]
  },
  {
   "cell_type": "code",
   "execution_count": 15,
   "metadata": {},
   "outputs": [
    {
     "name": "stdout",
     "output_type": "stream",
     "text": [
      "<selenium.webdriver.remote.webelement.WebElement (session=\"b99c12b6f282b367bb432729867d2675\", element=\"0abfeeba-07b5-4790-be20-17997f9422ab\")>\n"
     ]
    },
    {
     "ename": "TypeError",
     "evalue": "'WebElement' object is not iterable",
     "output_type": "error",
     "traceback": [
      "\u001b[1;31m---------------------------------------------------------------------------\u001b[0m",
      "\u001b[1;31mTypeError\u001b[0m                                 Traceback (most recent call last)",
      "\u001b[1;32m~\\AppData\\Local\\Temp/ipykernel_12856/933334098.py\u001b[0m in \u001b[0;36m<module>\u001b[1;34m\u001b[0m\n\u001b[0;32m     12\u001b[0m     \u001b[0mprint\u001b[0m\u001b[1;33m(\u001b[0m\u001b[0mpocetak\u001b[0m\u001b[1;33m)\u001b[0m\u001b[1;33m\u001b[0m\u001b[1;33m\u001b[0m\u001b[0m\n\u001b[0;32m     13\u001b[0m     \u001b[0msub\u001b[0m \u001b[1;33m=\u001b[0m \u001b[1;33m[\u001b[0m\u001b[1;33m]\u001b[0m\u001b[1;33m\u001b[0m\u001b[1;33m\u001b[0m\u001b[0m\n\u001b[1;32m---> 14\u001b[1;33m     \u001b[1;32mfor\u001b[0m \u001b[0mp\u001b[0m \u001b[1;32min\u001b[0m \u001b[0mpocetak\u001b[0m\u001b[1;33m:\u001b[0m\u001b[1;33m\u001b[0m\u001b[1;33m\u001b[0m\u001b[0m\n\u001b[0m\u001b[0;32m     15\u001b[0m         \u001b[1;32mif\u001b[0m \u001b[0mp\u001b[0m\u001b[1;33m.\u001b[0m\u001b[0mtext\u001b[0m \u001b[1;33m!=\u001b[0m \u001b[1;34m\"\"\u001b[0m\u001b[1;33m:\u001b[0m\u001b[1;33m\u001b[0m\u001b[1;33m\u001b[0m\u001b[0m\n\u001b[0;32m     16\u001b[0m             \u001b[0msub\u001b[0m\u001b[1;33m.\u001b[0m\u001b[0mappend\u001b[0m\u001b[1;33m(\u001b[0m\u001b[0mp\u001b[0m\u001b[1;33m.\u001b[0m\u001b[0mtext\u001b[0m\u001b[1;33m)\u001b[0m\u001b[1;33m\u001b[0m\u001b[1;33m\u001b[0m\u001b[0m\n",
      "\u001b[1;31mTypeError\u001b[0m: 'WebElement' object is not iterable"
     ]
    }
   ],
   "source": [
    "travel_begins = []\n",
    "overlays = driver.find_elements_by_class_name(\"overlay\")\n",
    "for ov in overlays:\n",
    "    try:\n",
    "        hover = ActionChains(driver).move_to_element(ov)\n",
    "        hover.perform()\n",
    "    except:\n",
    "        print(\"tu nest nevalja\")\n",
    "\n",
    "    pocetak = driver.find_element_by_xpath(\"//*[@id=\\\"loadMoreTripsApp\\\"]/div[1]/div[20]/div/a[1]/div[3]/p\")\n",
    "\n",
    "    print(pocetak)\n",
    "    sub = []\n",
    "    for p in pocetak:\n",
    "        if p.text != \"\":\n",
    "            sub.append(p.text)\n",
    "    print(sub)\n",
    "\n",
    "#     for s in sub:\n",
    "#         if s == []:\n",
    "#             travel_begins.append([\"-\"])\n",
    "#         else:\n",
    "#             travel_begins.append([s])\n",
    "# print(len(travel_begins))\n",
    "# print(travel_begins)"
   ]
  },
  {
   "cell_type": "code",
   "execution_count": null,
   "metadata": {},
   "outputs": [],
   "source": [
    "# print(journey_title)\n",
    "# print(price)\n",
    "# print(duration_days)\n",
    "# print(travel_begins)"
   ]
  },
  {
   "cell_type": "code",
   "execution_count": null,
   "metadata": {},
   "outputs": [
    {
     "name": "stdout",
     "output_type": "stream",
     "text": [
      "91 91 91 110\n"
     ]
    }
   ],
   "source": [
    "print(len(journey_title), len(price), len(duration_days), len(travel_begins))"
   ]
  },
  {
   "cell_type": "code",
   "execution_count": null,
   "metadata": {},
   "outputs": [],
   "source": [
    "# putovanje = pd.DataFrame({'Ime putovanja': journey_title,\n",
    "#                         'Cijena': price,\n",
    "#                         'Trajanje putovanja': duration_days,\n",
    "#                         'Početak putovanja': travel_begins,\n",
    "#                         })\n",
    "\n",
    "# df = pd.DataFrame.from_dict(putovanje, orient='index')\n",
    "# df = df.transpose()"
   ]
  }
 ],
 "metadata": {
  "interpreter": {
   "hash": "2647ea34e536f865ab67ff9ddee7fd78773d956cec0cab53c79b32cd10da5d83"
  },
  "kernelspec": {
   "display_name": "Python 3.9.5 64-bit",
   "language": "python",
   "name": "python3"
  },
  "language_info": {
   "codemirror_mode": {
    "name": "ipython",
    "version": 3
   },
   "file_extension": ".py",
   "mimetype": "text/x-python",
   "name": "python",
   "nbconvert_exporter": "python",
   "pygments_lexer": "ipython3",
   "version": "3.9.7"
  },
  "orig_nbformat": 4
 },
 "nbformat": 4,
 "nbformat_minor": 2
}
