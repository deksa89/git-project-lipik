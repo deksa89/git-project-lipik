{
 "cells": [
  {
   "cell_type": "code",
   "execution_count": 2,
   "metadata": {},
   "outputs": [],
   "source": [
    "import os\n",
    "import requests\n",
    "from bs4 import BeautifulSoup"
   ]
  },
  {
   "cell_type": "code",
   "execution_count": 4,
   "metadata": {},
   "outputs": [],
   "source": [
    "url = \"https://en.wikipedia.org/wiki/Space_Race\"\n",
    "response = requests.get(url)"
   ]
  },
  {
   "cell_type": "code",
   "execution_count": 5,
   "metadata": {},
   "outputs": [
    {
     "data": {
      "text/plain": [
       "<Response [200]>"
      ]
     },
     "execution_count": 5,
     "metadata": {},
     "output_type": "execute_result"
    }
   ],
   "source": [
    "response"
   ]
  },
  {
   "cell_type": "code",
   "execution_count": 8,
   "metadata": {},
   "outputs": [
    {
     "data": {
      "text/plain": [
       "b'<!DOCTYPE html>\\n<html class=\"client-nojs\" lang=\"en\" dir=\"ltr\">\\n<head>\\n<meta charset=\"UTF-8\"/>\\n<title'"
      ]
     },
     "execution_count": 8,
     "metadata": {},
     "output_type": "execute_result"
    }
   ],
   "source": [
    "html = response.content\n",
    "html_txt = response.text\n",
    "html[:100]"
   ]
  },
  {
   "cell_type": "code",
   "execution_count": 9,
   "metadata": {},
   "outputs": [],
   "source": [
    "soup = BeautifulSoup(html, \"html.parser\")"
   ]
  },
  {
   "cell_type": "code",
   "execution_count": 12,
   "metadata": {},
   "outputs": [],
   "source": [
    "divs = soup.body.div.text"
   ]
  },
  {
   "cell_type": "code",
   "execution_count": 17,
   "metadata": {},
   "outputs": [],
   "source": [
    "div_list = soup.find_all(\"div\")\n"
   ]
  },
  {
   "cell_type": "code",
   "execution_count": 59,
   "metadata": {},
   "outputs": [
    {
     "name": "stdout",
     "output_type": "stream",
     "text": [
      "<h1 class=\"firstHeading\" id=\"firstHeading\">Space Race</h1>\n"
     ]
    }
   ],
   "source": [
    "body_content_naslov = soup.find(\"h1\", id = \"firstHeading\")\n",
    "print(body_content_naslov)"
   ]
  },
  {
   "cell_type": "code",
   "execution_count": 60,
   "metadata": {},
   "outputs": [],
   "source": [
    "import re\n"
   ]
  },
  {
   "cell_type": "code",
   "execution_count": 61,
   "metadata": {},
   "outputs": [
    {
     "name": "stdout",
     "output_type": "stream",
     "text": [
      "['Space Race']\n"
     ]
    }
   ],
   "source": [
    "body_content_naslov = re.findall(r'>(.+?)<', str(body_content_naslov))\n",
    "print(body_content_naslov)"
   ]
  },
  {
   "cell_type": "code",
   "execution_count": 66,
   "metadata": {},
   "outputs": [],
   "source": [
    "body_content_odlomak1 = soup.find(\"div\", class_=\"mw-parser-output\")\n",
    "#print(body_content_odlomak1)"
   ]
  },
  {
   "cell_type": "code",
   "execution_count": 67,
   "metadata": {},
   "outputs": [
    {
     "name": "stdout",
     "output_type": "stream",
     "text": [
      "<class 'bs4.element.Tag'>\n"
     ]
    }
   ],
   "source": [
    "print(type(body_content_odlomak1))"
   ]
  },
  {
   "cell_type": "code",
   "execution_count": 70,
   "metadata": {},
   "outputs": [
    {
     "name": "stdout",
     "output_type": "stream",
     "text": [
      "<class 'bs4.element.ResultSet'>\n"
     ]
    }
   ],
   "source": [
    "#body_content_odlomak1.text\n",
    "p = soup.find(\"div\", class_=\"mw-parser-output\").find_all(\"p\", recursive=False)\n",
    "print(type(p))\n"
   ]
  },
  {
   "cell_type": "code",
   "execution_count": 72,
   "metadata": {},
   "outputs": [],
   "source": [
    "paragraphs_lista = []\n",
    "for element in p:\n",
    "    paragraphs_lista.append(element.text)"
   ]
  },
  {
   "cell_type": "code",
   "execution_count": 111,
   "metadata": {},
   "outputs": [
    {
     "name": "stdout",
     "output_type": "stream",
     "text": [
      "['Origins', 'Missile race', 'Soviet rocket development', 'American rocket development', 'First artificial satellites', 'Soviet planning', 'United States planning', 'Sputnik', 'US reaction', 'Creation of NASA', 'Robotic lunar probes', 'First mammals in space', 'First humans in space', 'Vostok', 'Mercury', 'Kennedy aims for the Moon', 'Proposed joint US-USSR program', 'First crewed spacecraft', 'Voskhod', 'Gemini', 'Soviet crewed Moon programs', 'Outer space treaty', 'Disaster strikes both sides', 'Apollo 1', 'Soyuz 1', 'Both programs recover', 'First humans on the Moon', 'Competition ramps down', 'Salyuts and Skylab', 'Apollo–Soyuz Test Project', 'Space Shuttles', 'First professional women in space', 'First modular space station', 'Legacy', 'See also', 'Notes', 'References', 'External links']\n"
     ]
    }
   ],
   "source": [
    "subtitles_lista = []\n",
    "headers = soup.findAll(class_=\"mw-headline\")\n",
    "\n",
    "# naslovi = re.sub(r',(?!\\s+\\d$)',\"\", str(headers))\n",
    "# naslovi = re.findall(r'>(.+?)<', str(naslovi))\n",
    "# print(naslovi)\n",
    "\n",
    "for elem in headers:\n",
    "    if elem.text != \" \":\n",
    "        subtitles_lista.append(elem.text)\n",
    "print(subtitles_lista)"
   ]
  },
  {
   "cell_type": "code",
   "execution_count": null,
   "metadata": {},
   "outputs": [],
   "source": []
  }
 ],
 "metadata": {
  "interpreter": {
   "hash": "49b45889f5ac07bbdc4e98334c19b0ab6dbc8662d64cb5366f360abb9ae0762b"
  },
  "kernelspec": {
   "display_name": "Python 3.10.0 64-bit ('web_scraping-env': conda)",
   "language": "python",
   "name": "python3"
  },
  "language_info": {
   "codemirror_mode": {
    "name": "ipython",
    "version": 3
   },
   "file_extension": ".py",
   "mimetype": "text/x-python",
   "name": "python",
   "nbconvert_exporter": "python",
   "pygments_lexer": "ipython3",
   "version": "3.9.7"
  },
  "orig_nbformat": 4
 },
 "nbformat": 4,
 "nbformat_minor": 2
}
